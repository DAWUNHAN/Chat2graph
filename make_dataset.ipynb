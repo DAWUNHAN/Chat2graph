{
 "cells": [
  {
   "cell_type": "code",
   "execution_count": 1,
   "metadata": {},
   "outputs": [
    {
     "name": "stderr",
     "output_type": "stream",
     "text": [
      "UsageError: Cell magic `%%manim` not found.\n"
     ]
    }
   ],
   "source": [
    "%%manim -ql -v WARNING PlotFunctions\n",
    "from manim import *\n",
    "import numpy as np\n",
    "from sympy import symbols, solve, log, Eq\n",
    "\n",
    "class PlotFunctions(Scene):\n",
    "    def construct(self):\n",
    "        # 축 설정을 더 넓은 범위로 확대\n",
    "        axes = Axes(\n",
    "            x_range=[-20, 20, 2],  # x 범위를 세밀하게 조정\n",
    "            y_range=[-20, 20, 2],  # y 범위를 f(x)와 g(x)의 교차점이 잘 보이도록 확대\n",
    "            x_length=20,\n",
    "            y_length=20,\n",
    "            axis_config={\"color\": BLUE},\n",
    "        )\n",
    "\n",
    "        # 축 레이블\n",
    "        x_label = axes.get_x_axis_label(\"x\")\n",
    "        y_label = axes.get_y_axis_label(\"y\")\n",
    "\n",
    "        # sympy를 사용한 함수 정의 (교차점 찾기용)\n",
    "        x = symbols('x')\n",
    "        f_sym = log(x/2)\n",
    "        g_sym = (x-8)/2\n",
    "\n",
    "        # 교차점 찾기\n",
    "        intersections = solve(Eq(f_sym, g_sym), x)\n",
    "\n",
    "        # numpy를 사용한 함수 정의 (그래프 그리기용)\n",
    "        f_np = lambda x: np.log(x/2)\n",
    "        g_np = lambda x: (x-8)/2\n",
    "\n",
    "        # 함수 그래프\n",
    "        f_graph = axes.plot(f_np, color=RED, x_range=[0.03, np.e**3])\n",
    "        g_graph = axes.plot(g_np, color=GREEN, x_range=[0, 20])\n",
    "\n",
    "        # 교차점에서의 좌표 구하기 및 표시\n",
    "        dots = [Dot(axes.coords_to_point(float(i), f_np(float(i))), color=YELLOW) for i in intersections]\n",
    "\n",
    "        # 교차점 사이의 면적 색칠\n",
    "        # f(x) 그래프 아래이자 g(x) 그래프 위 공간 색칠\n",
    "        area = axes.get_area(f_graph, x_range=[float(min(intersections)), float(max(intersections))], bounded_graph=g_graph, color=ORANGE, opacity=0.5)\n",
    "\n",
    "        # 그리기\n",
    "        self.play(Create(axes), Write(x_label), Write(y_label))\n",
    "        self.play(Create(f_graph), Create(g_graph))\n",
    "        self.play(*[Create(dot) for dot in dots])\n",
    "        self.play(FadeIn(area))\n",
    "        self.wait(1)\n"
   ]
  },
  {
   "cell_type": "code",
   "execution_count": null,
   "metadata": {},
   "outputs": [],
   "source": []
  }
 ],
 "metadata": {
  "kernelspec": {
   "display_name": "env",
   "language": "python",
   "name": "python3"
  },
  "language_info": {
   "codemirror_mode": {
    "name": "ipython",
    "version": 3
   },
   "file_extension": ".py",
   "mimetype": "text/x-python",
   "name": "python",
   "nbconvert_exporter": "python",
   "pygments_lexer": "ipython3",
   "version": "3.12.2"
  }
 },
 "nbformat": 4,
 "nbformat_minor": 2
}
